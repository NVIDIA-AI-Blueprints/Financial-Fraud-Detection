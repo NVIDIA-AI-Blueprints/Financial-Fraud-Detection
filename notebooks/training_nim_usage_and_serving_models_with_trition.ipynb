{
 "cells": [
  {
   "cell_type": "markdown",
   "metadata": {},
   "source": [
    "### Path to your dataset root directory"
   ]
  },
  {
   "cell_type": "code",
   "execution_count": 1,
   "metadata": {},
   "outputs": [],
   "source": [
    "dataset_root_dir = '../data/TF'"
   ]
  },
  {
   "cell_type": "markdown",
   "metadata": {},
   "source": [
    "## 1. Preprocess data and run training using Training NIM\n",
    "- Call function to preprocess data\n",
    "- Train models using Training NIM\n",
    "  - - For local testing, deploy Training NIM\n",
    "  - - Train model based on input config file"
   ]
  },
  {
   "cell_type": "code",
   "execution_count": 19,
   "metadata": {},
   "outputs": [],
   "source": [
    "# Preprocess\n",
    "# For local testing, deploy Training NIM\n",
    "# Run training on Training NIM"
   ]
  },
  {
   "cell_type": "markdown",
   "metadata": {},
   "source": [
    "## 2. Serve your model on Triton Inference Server"
   ]
  },
  {
   "cell_type": "code",
   "execution_count": 3,
   "metadata": {},
   "outputs": [],
   "source": [
    "import os\n",
    "import time\n",
    "\n",
    "import tritonclient.grpc as triton_grpc\n",
    "import tritonclient.http as httpclient\n",
    "from tritonclient import utils as triton_utils"
   ]
  },
  {
   "cell_type": "code",
   "execution_count": 4,
   "metadata": {},
   "outputs": [],
   "source": [
    "# Set to False for remote/cloud deployment\n",
    "run_locally = True "
   ]
  },
  {
   "cell_type": "markdown",
   "metadata": {},
   "source": [
    "##### Replace HOST with the actual server URL where your Triton Inference Server is hosted.\n"
   ]
  },
  {
   "cell_type": "code",
   "execution_count": 5,
   "metadata": {},
   "outputs": [],
   "source": [
    "if run_locally:\n",
    "    HOST = 'localhost'\n",
    "else:\n",
    "    HOST = '<SERVER_URL>' # Replace with your server URL or IP address\n",
    "\n",
    "HTTP_PORT = 8000\n",
    "GRPC_PORT = 8001"
   ]
  },
  {
   "cell_type": "markdown",
   "metadata": {},
   "source": [
    "### If you are testing a local deployment\n",
    "- Pull Triton inference server docker image\n",
    "- Deploy server with  models and configuration files (produced by the training NIM)\n",
    "- Double check that your model repository folder has the following structures\n",
    "```sh\n",
    "├── model\n",
    "│   ├── 1\n",
    "│   │   └── graph_sage_node_embedder.onnx\n",
    "│   └── config.pbtxt\n",
    "└── xgboost\n",
    "    ├── 1\n",
    "    │   └── xgboost_on_embeddings.json\n",
    "    └── config.pbtxt\n",
    "```"
   ]
  },
  {
   "cell_type": "code",
   "execution_count": 6,
   "metadata": {},
   "outputs": [
    {
     "name": "stdout",
     "output_type": "stream",
     "text": [
      "25.01-py3: Pulling from nvidia/tritonserver\n",
      "Digest: sha256:eea017611e2231da3a06d1cf47b73efdfe4811a313001cb12f4efe13b1418134\n",
      "Status: Image is up to date for nvcr.io/nvidia/tritonserver:25.01-py3\n",
      "nvcr.io/nvidia/tritonserver:25.01-py3\n",
      "tritonserver\n",
      "tritonserver\n",
      "2b05c6a8cda7c2accae64753b9a8167e1ffb3097b465733ce9c0ce9ad61b5225\n"
     ]
    }
   ],
   "source": [
    "if run_locally:\n",
    "    \n",
    "    # Triton server image\n",
    "    TRITON_IMAGE = 'nvcr.io/nvidia/tritonserver:25.01-py3'\n",
    "\n",
    "    # Change this path to point to the model repository folder \n",
    "    MODEL_REPO_PATH = '/home/mnaim/Triton/morpheus-experimental/ai-credit-fraud-workflow/data/TabFormer/trained_models/model_repository'\n",
    "\n",
    "    # Pull docker \n",
    "    !docker pull {TRITON_IMAGE}\n",
    "    !docker stop tritonserver\n",
    "    !docker rm tritonserver\n",
    "\n",
    "    !docker run --gpus all -d -p {HTTP_PORT}:{HTTP_PORT} -p {GRPC_PORT}:{GRPC_PORT} -v {MODEL_REPO_PATH}:/models --name tritonserver {TRITON_IMAGE} tritonserver --model-repository=/models\n",
    "\n"
   ]
  },
  {
   "cell_type": "markdown",
   "metadata": {},
   "source": [
    "### URLs for GRPC and HTTP request to the inference server"
   ]
  },
  {
   "cell_type": "code",
   "execution_count": 7,
   "metadata": {},
   "outputs": [],
   "source": [
    "client_grpc = triton_grpc.InferenceServerClient(url=f'{HOST}:{GRPC_PORT}')\n",
    "client_http = httpclient.InferenceServerClient(url=f'{HOST}:{HTTP_PORT}')"
   ]
  },
  {
   "cell_type": "markdown",
   "metadata": {},
   "source": [
    "### Wait for the triton inference server to come online"
   ]
  },
  {
   "cell_type": "code",
   "execution_count": 8,
   "metadata": {},
   "outputs": [],
   "source": [
    "\n",
    "TIMEOUT = 60\n",
    "client_grpc = triton_grpc.InferenceServerClient(url=f'{HOST}:{GRPC_PORT}')\n",
    "server_start = time.time()\n",
    "while True:\n",
    "    try:\n",
    "        if client_grpc.is_server_ready() or time.time() - server_start > TIMEOUT:\n",
    "            break\n",
    "    except triton_utils.InferenceServerException:\n",
    "        pass\n",
    "    time.sleep(1)\n"
   ]
  },
  {
   "cell_type": "markdown",
   "metadata": {},
   "source": [
    "### For local deployment, check if the triton inference server is running properly"
   ]
  },
  {
   "cell_type": "code",
   "execution_count": 9,
   "metadata": {},
   "outputs": [
    {
     "name": "stdout",
     "output_type": "stream",
     "text": [
      "\n",
      "=============================\n",
      "== Triton Inference Server ==\n",
      "=============================\n",
      "\n",
      "NVIDIA Release 25.01 (build 136230209)\n",
      "Triton Server Version 2.54.0\n",
      "\n",
      "Copyright (c) 2018-2024, NVIDIA CORPORATION & AFFILIATES.  All rights reserved.\n",
      "\n",
      "Various files include modifications (c) NVIDIA CORPORATION & AFFILIATES.  All rights reserved.\n",
      "\n",
      "This container image and its contents are governed by the NVIDIA Deep Learning Container License.\n",
      "By pulling and using the container, you accept the terms and conditions of this license:\n",
      "https://developer.nvidia.com/ngc/nvidia-deep-learning-container-license\n",
      "\n",
      "NOTE: CUDA Forward Compatibility mode ENABLED.\n",
      "  Using CUDA 12.8 driver version 570.86.10 with kernel driver version 565.57.01.\n",
      "  See https://docs.nvidia.com/deploy/cuda-compatibility/ for details.\n",
      "\n",
      "I0206 00:45:43.938729 1 pinned_memory_manager.cc:277] \"Pinned memory pool is created at '0x7fec4e000000' with size 268435456\"\n",
      "I0206 00:45:43.947094 1 cuda_memory_manager.cc:107] \"CUDA memory pool is created on device 0 with size 67108864\"\n",
      "I0206 00:45:43.947101 1 cuda_memory_manager.cc:107] \"CUDA memory pool is created on device 1 with size 67108864\"\n",
      "I0206 00:45:44.067149 1 model_lifecycle.cc:473] \"loading: model:1\"\n",
      "I0206 00:45:44.067184 1 model_lifecycle.cc:473] \"loading: xgboost:1\"\n",
      "I0206 00:45:44.070805 1 initialize.hpp:43] \"TRITONBACKEND_Initialize: fil\"\n",
      "I0206 00:45:44.070824 1 backend.hpp:47] \"Triton TRITONBACKEND API version: 1.19\"\n",
      "I0206 00:45:44.070828 1 backend.hpp:52] \"'fil' TRITONBACKEND API version: 1.19\"\n",
      "I0206 00:45:44.073308 1 onnxruntime.cc:2875] \"TRITONBACKEND_Initialize: onnxruntime\"\n",
      "I0206 00:45:44.073330 1 onnxruntime.cc:2885] \"Triton TRITONBACKEND API version: 1.19\"\n",
      "I0206 00:45:44.073334 1 onnxruntime.cc:2891] \"'onnxruntime' TRITONBACKEND API version: 1.19\"\n",
      "I0206 00:45:44.073337 1 onnxruntime.cc:2921] \"backend configuration:\\n{\\\"cmdline\\\":{\\\"auto-complete-config\\\":\\\"true\\\",\\\"backend-directory\\\":\\\"/opt/tritonserver/backends\\\",\\\"min-compute-capability\\\":\\\"6.000000\\\",\\\"default-max-batch-size\\\":\\\"4\\\"}}\"\n",
      "I0206 00:45:44.075220 1 model_initialize.hpp:37] \"TRITONBACKEND_ModelInitialize: xgboost (version 1)\"\n",
      "I0206 00:45:44.076082 1 instance_initialize.hpp:46] \"TRITONBACKEND_ModelInstanceInitialize: xgboost_0_0 (GPU device 0)\"\n",
      "I0206 00:45:44.094676 1 onnxruntime.cc:2986] \"TRITONBACKEND_ModelInitialize: model (version 1)\"\n",
      "I0206 00:45:44.094965 1 onnxruntime.cc:984] \"skipping model configuration auto-complete for 'model': inputs and outputs already specified\"\n",
      "I0206 00:45:44.095605 1 onnxruntime.cc:3051] \"TRITONBACKEND_ModelInstanceInitialize: model_0_0 (GPU device 0)\"\n",
      "I0206 00:45:44.095614 1 onnxruntime.cc:3051] \"TRITONBACKEND_ModelInstanceInitialize: model_0_0 (GPU device 1)\"\n",
      "\u001b[0;93m2025-02-06 00:45:44.198520609 [W:onnxruntime:, session_state.cc:1168 VerifyEachNodeIsAssignedToAnEp] Some nodes were not assigned to the preferred execution providers which may or may not have an negative impact on performance. e.g. ORT explicitly assigns shape related ops to CPU to improve perf.\u001b[m\n",
      "\u001b[0;93m2025-02-06 00:45:44.198537091 [W:onnxruntime:, session_state.cc:1170 VerifyEachNodeIsAssignedToAnEp] Rerunning with verbose output on a non-minimal build will show node assignments.\u001b[m\n",
      "I0206 00:45:44.234741 1 instance_initialize.hpp:46] \"TRITONBACKEND_ModelInstanceInitialize: xgboost_0_0 (GPU device 1)\"\n",
      "\u001b[0;93m2025-02-06 00:45:44.241192437 [W:onnxruntime:, session_state.cc:1168 VerifyEachNodeIsAssignedToAnEp] Some nodes were not assigned to the preferred execution providers which may or may not have an negative impact on performance. e.g. ORT explicitly assigns shape related ops to CPU to improve perf.\u001b[m\n",
      "\u001b[0;93m2025-02-06 00:45:44.241205522 [W:onnxruntime:, session_state.cc:1170 VerifyEachNodeIsAssignedToAnEp] Rerunning with verbose output on a non-minimal build will show node assignments.\u001b[m\n",
      "I0206 00:45:44.262107 1 model_lifecycle.cc:849] \"successfully loaded 'model'\"\n",
      "I0206 00:45:44.325368 1 model_lifecycle.cc:849] \"successfully loaded 'xgboost'\"\n",
      "I0206 00:45:44.325416 1 server.cc:604] \n",
      "+------------------+------+\n",
      "| Repository Agent | Path |\n",
      "+------------------+------+\n",
      "+------------------+------+\n",
      "\n",
      "I0206 00:45:44.325439 1 server.cc:631] \n",
      "+-------------+-----------------------------------------------------------------+---------------------------------------------------------------------------------------------------------------------------------------------------------------+\n",
      "| Backend     | Path                                                            | Config                                                                                                                                                        |\n",
      "+-------------+-----------------------------------------------------------------+---------------------------------------------------------------------------------------------------------------------------------------------------------------+\n",
      "| fil         | /opt/tritonserver/backends/fil/libtriton_fil.so                 | {\"cmdline\":{\"auto-complete-config\":\"true\",\"backend-directory\":\"/opt/tritonserver/backends\",\"min-compute-capability\":\"6.000000\",\"default-max-batch-size\":\"4\"}} |\n",
      "| onnxruntime | /opt/tritonserver/backends/onnxruntime/libtriton_onnxruntime.so | {\"cmdline\":{\"auto-complete-config\":\"true\",\"backend-directory\":\"/opt/tritonserver/backends\",\"min-compute-capability\":\"6.000000\",\"default-max-batch-size\":\"4\"}} |\n",
      "+-------------+-----------------------------------------------------------------+---------------------------------------------------------------------------------------------------------------------------------------------------------------+\n",
      "\n",
      "I0206 00:45:44.325465 1 server.cc:674] \n",
      "+---------+---------+--------+\n",
      "| Model   | Version | Status |\n",
      "+---------+---------+--------+\n",
      "| model   | 1       | READY  |\n",
      "| xgboost | 1       | READY  |\n",
      "+---------+---------+--------+\n",
      "\n",
      "I0206 00:45:44.386231 1 metrics.cc:890] \"Collecting metrics for GPU 0: NVIDIA RTX A6000\"\n",
      "I0206 00:45:44.386246 1 metrics.cc:890] \"Collecting metrics for GPU 1: NVIDIA RTX A6000\"\n",
      "I0206 00:45:44.393917 1 metrics.cc:783] \"Collecting CPU metrics\"\n",
      "I0206 00:45:44.394081 1 tritonserver.cc:2598] \n",
      "+----------------------------------+-----------------------------------------------------------------------------------------------------------------------------------------------------------------------------------------------------------------+\n",
      "| Option                           | Value                                                                                                                                                                                                           |\n",
      "+----------------------------------+-----------------------------------------------------------------------------------------------------------------------------------------------------------------------------------------------------------------+\n",
      "| server_id                        | triton                                                                                                                                                                                                          |\n",
      "| server_version                   | 2.54.0                                                                                                                                                                                                          |\n",
      "| server_extensions                | classification sequence model_repository model_repository(unload_dependents) schedule_policy model_configuration system_shared_memory cuda_shared_memory binary_tensor_data parameters statistics trace logging |\n",
      "| model_repository_path[0]         | /models                                                                                                                                                                                                         |\n",
      "| model_control_mode               | MODE_NONE                                                                                                                                                                                                       |\n",
      "| strict_model_config              | 0                                                                                                                                                                                                               |\n",
      "| model_config_name                |                                                                                                                                                                                                                 |\n",
      "| rate_limit                       | OFF                                                                                                                                                                                                             |\n",
      "| pinned_memory_pool_byte_size     | 268435456                                                                                                                                                                                                       |\n",
      "| cuda_memory_pool_byte_size{0}    | 67108864                                                                                                                                                                                                        |\n",
      "| cuda_memory_pool_byte_size{1}    | 67108864                                                                                                                                                                                                        |\n",
      "| min_supported_compute_capability | 6.0                                                                                                                                                                                                             |\n",
      "| strict_readiness                 | 1                                                                                                                                                                                                               |\n",
      "| exit_timeout                     | 30                                                                                                                                                                                                              |\n",
      "| cache_enabled                    | 0                                                                                                                                                                                                               |\n",
      "+----------------------------------+-----------------------------------------------------------------------------------------------------------------------------------------------------------------------------------------------------------------+\n",
      "\n",
      "I0206 00:45:44.397302 1 grpc_server.cc:2558] \"Started GRPCInferenceService at 0.0.0.0:8001\"\n",
      "I0206 00:45:44.397429 1 http_server.cc:4725] \"Started HTTPService at 0.0.0.0:8000\"\n",
      "I0206 00:45:44.438717 1 http_server.cc:358] \"Started Metrics Service at 0.0.0.0:8002\"\n"
     ]
    }
   ],
   "source": [
    "if run_locally:\n",
    "    !docker logs tritonserver\n"
   ]
  },
  {
   "cell_type": "markdown",
   "metadata": {},
   "source": [
    "### Read preprocessed input transactions to make query to the triton inference server"
   ]
  },
  {
   "cell_type": "code",
   "execution_count": 10,
   "metadata": {},
   "outputs": [],
   "source": [
    "import pandas as pd\n",
    "import numpy as np\n",
    "\n",
    "test_path = os.path.join(dataset_root_dir, \"xgb/test.csv\") # already preprocessed data\n",
    "test_df = pd.read_csv(test_path)\n",
    "X = test_df.iloc[:, :-1].values.astype(np.float32)\n",
    "y = test_df.iloc[:, -1].values\n",
    "edge_index = np.array([[], []]).astype(np.int64) # empty edge_index"
   ]
  },
  {
   "cell_type": "markdown",
   "metadata": {},
   "source": [
    "### Setup the HTTP request's inputs and output to retrieve embeddings for the input transactions"
   ]
  },
  {
   "cell_type": "code",
   "execution_count": 11,
   "metadata": {},
   "outputs": [],
   "source": [
    "inputs_features = httpclient.InferInput(\"x\", X.shape, datatype=\"FP32\")\n",
    "inputs_features.set_data_from_numpy(X)\n",
    "\n",
    "inputs_edges = httpclient.InferInput(\"edge_index\", edge_index.shape, datatype=\"INT64\")\n",
    "inputs_edges.set_data_from_numpy(edge_index)\n",
    "\n",
    "outputs = httpclient.InferRequestedOutput(\"output\")"
   ]
  },
  {
   "cell_type": "markdown",
   "metadata": {},
   "source": [
    "### Send a query to retrieve embeddings"
   ]
  },
  {
   "cell_type": "code",
   "execution_count": 12,
   "metadata": {},
   "outputs": [],
   "source": [
    "# Querying the server\n",
    "results = client_http.infer(model_name=\"model\", inputs=[inputs_features, inputs_edges], outputs=[outputs])\n",
    "node_embeddings = results.as_numpy('output')\n",
    "# print(node_embeddings)\n"
   ]
  },
  {
   "cell_type": "markdown",
   "metadata": {},
   "source": [
    "### Use the retrieved embeddings as inputs to predict the transactions' fraud scores"
   ]
  },
  {
   "cell_type": "code",
   "execution_count": 13,
   "metadata": {},
   "outputs": [],
   "source": [
    "inputs_xgboost = httpclient.InferInput(\"input__0\", node_embeddings.shape, datatype=\"FP32\")\n",
    "inputs_xgboost.set_data_from_numpy(node_embeddings)\n",
    "\n",
    "outputs_xgboost = httpclient.InferRequestedOutput(\"output__0\")"
   ]
  },
  {
   "cell_type": "markdown",
   "metadata": {},
   "source": [
    "### Send a query to retrieve the fraud scores"
   ]
  },
  {
   "cell_type": "code",
   "execution_count": 14,
   "metadata": {},
   "outputs": [],
   "source": [
    "results = client_http.infer(model_name=\"xgboost\", inputs=[inputs_xgboost], outputs=[outputs_xgboost])\n",
    "predictions = results.as_numpy('output__0')"
   ]
  },
  {
   "cell_type": "markdown",
   "metadata": {},
   "source": [
    "### Evaluate performance"
   ]
  },
  {
   "cell_type": "code",
   "execution_count": 15,
   "metadata": {},
   "outputs": [
    {
     "name": "stdout",
     "output_type": "stream",
     "text": [
      "----Summary---\n",
      "Accuracy: 0.9473\n",
      "Precision: 0.8430\n",
      "Recall: 0.4193\n",
      "F1 Score: 0.5600\n"
     ]
    }
   ],
   "source": [
    "from cuml.metrics import confusion_matrix\n",
    "from sklearn.metrics import accuracy_score, precision_score, recall_score, f1_score\n",
    "\n",
    "y_pred = (predictions > 0.6).astype(int)\n",
    "\n",
    "\n",
    "# Compute evaluation metrics\n",
    "accuracy = accuracy_score(y, y_pred)\n",
    "precision = precision_score(y, y_pred, zero_division=0)\n",
    "recall = recall_score(y, y_pred, zero_division=0)\n",
    "f1 = f1_score(y, y_pred, zero_division=0)\n",
    "\n",
    "print(\"----Summary---\")\n",
    "print(f\"Accuracy: {accuracy:.4f}\")\n",
    "print(f\"Precision: {precision:.4f}\")\n",
    "print(f\"Recall: {recall:.4f}\")\n",
    "print(f\"F1 Score: {f1:.4f}\")\n"
   ]
  },
  {
   "cell_type": "markdown",
   "metadata": {},
   "source": [
    "### Compute confusion matrix "
   ]
  },
  {
   "cell_type": "code",
   "execution_count": 16,
   "metadata": {},
   "outputs": [
    {
     "name": "stdout",
     "output_type": "stream",
     "text": [
      "                 Predicted      \n",
      "                 Non-Fraud Fraud\n",
      "Actual Non-Fraud     23857   163\n",
      "       Fraud          1212   875\n"
     ]
    }
   ],
   "source": [
    "import pandas as pd\n",
    "# Create a DataFrame with labeled rows and columns\n",
    "classes = ['Non-Fraud', 'Fraud']\n",
    "columns = pd.MultiIndex.from_product([[\"Predicted\"], classes])\n",
    "index = pd.MultiIndex.from_product([[\"Actual\"], classes])\n",
    "\n",
    "conf_mat = confusion_matrix(y, y_pred)\n",
    "cm_df = pd.DataFrame(conf_mat.get(), index=index, columns=columns)\n",
    "print(cm_df)"
   ]
  },
  {
   "cell_type": "markdown",
   "metadata": {},
   "source": [
    "### Plot confusion matrix"
   ]
  },
  {
   "cell_type": "code",
   "execution_count": 17,
   "metadata": {},
   "outputs": [
    {
     "name": "stdout",
     "output_type": "stream",
     "text": [
      "Requirement already satisfied: seaborn in /home/mnaim/miniforge3/envs/fraud_conda_env/lib/python3.11/site-packages (0.13.2)\n",
      "Requirement already satisfied: numpy!=1.24.0,>=1.20 in /home/mnaim/miniforge3/envs/fraud_conda_env/lib/python3.11/site-packages (from seaborn) (1.26.4)\n",
      "Requirement already satisfied: pandas>=1.2 in /home/mnaim/miniforge3/envs/fraud_conda_env/lib/python3.11/site-packages (from seaborn) (2.2.2)\n",
      "Requirement already satisfied: matplotlib!=3.6.1,>=3.4 in /home/mnaim/miniforge3/envs/fraud_conda_env/lib/python3.11/site-packages (from seaborn) (3.10.0)\n",
      "Requirement already satisfied: contourpy>=1.0.1 in /home/mnaim/miniforge3/envs/fraud_conda_env/lib/python3.11/site-packages (from matplotlib!=3.6.1,>=3.4->seaborn) (1.3.1)\n",
      "Requirement already satisfied: cycler>=0.10 in /home/mnaim/miniforge3/envs/fraud_conda_env/lib/python3.11/site-packages (from matplotlib!=3.6.1,>=3.4->seaborn) (0.12.1)\n",
      "Requirement already satisfied: fonttools>=4.22.0 in /home/mnaim/miniforge3/envs/fraud_conda_env/lib/python3.11/site-packages (from matplotlib!=3.6.1,>=3.4->seaborn) (4.55.3)\n",
      "Requirement already satisfied: kiwisolver>=1.3.1 in /home/mnaim/miniforge3/envs/fraud_conda_env/lib/python3.11/site-packages (from matplotlib!=3.6.1,>=3.4->seaborn) (1.4.7)\n",
      "Requirement already satisfied: packaging>=20.0 in /home/mnaim/miniforge3/envs/fraud_conda_env/lib/python3.11/site-packages (from matplotlib!=3.6.1,>=3.4->seaborn) (24.2)\n",
      "Requirement already satisfied: pillow>=8 in /home/mnaim/miniforge3/envs/fraud_conda_env/lib/python3.11/site-packages (from matplotlib!=3.6.1,>=3.4->seaborn) (11.1.0)\n",
      "Requirement already satisfied: pyparsing>=2.3.1 in /home/mnaim/miniforge3/envs/fraud_conda_env/lib/python3.11/site-packages (from matplotlib!=3.6.1,>=3.4->seaborn) (3.2.1)\n",
      "Requirement already satisfied: python-dateutil>=2.7 in /home/mnaim/miniforge3/envs/fraud_conda_env/lib/python3.11/site-packages (from matplotlib!=3.6.1,>=3.4->seaborn) (2.9.0.post0)\n",
      "Requirement already satisfied: pytz>=2020.1 in /home/mnaim/miniforge3/envs/fraud_conda_env/lib/python3.11/site-packages (from pandas>=1.2->seaborn) (2024.2)\n",
      "Requirement already satisfied: tzdata>=2022.7 in /home/mnaim/miniforge3/envs/fraud_conda_env/lib/python3.11/site-packages (from pandas>=1.2->seaborn) (2024.2)\n",
      "Requirement already satisfied: six>=1.5 in /home/mnaim/miniforge3/envs/fraud_conda_env/lib/python3.11/site-packages (from python-dateutil>=2.7->matplotlib!=3.6.1,>=3.4->seaborn) (1.17.0)\n"
     ]
    }
   ],
   "source": [
    "!pip install seaborn"
   ]
  },
  {
   "cell_type": "code",
   "execution_count": 18,
   "metadata": {},
   "outputs": [
    {
     "data": {
      "image/png": "[encoded data removed]",
      "text/plain": [
       "<Figure size 640x480 with 2 Axes>"
      ]
     },
     "metadata": {},
     "output_type": "display_data"
    }
   ],
   "source": [
    "import matplotlib.pyplot as plt\n",
    "from sklearn.metrics import ConfusionMatrixDisplay\n",
    "\n",
    "# Plot the confusion matrix directly from predictions\n",
    "disp = ConfusionMatrixDisplay.from_predictions(\n",
    "    y, y_pred, display_labels=classes)\n",
    "disp.ax_.set_title('Confusion Matrix')\n",
    "plt.show()"
   ]
  }
 ],
 "metadata": {
  "kernelspec": {
   "display_name": "fraud_conda_env",
   "language": "python",
   "name": "python3"
  },
  "language_info": {
   "codemirror_mode": {
    "name": "ipython",
    "version": 3
   },
   "file_extension": ".py",
   "mimetype": "text/x-python",
   "name": "python",
   "nbconvert_exporter": "python",
   "pygments_lexer": "ipython3",
   "version": "3.11.11"
  }
 },
 "nbformat": 4,
 "nbformat_minor": 2
}
